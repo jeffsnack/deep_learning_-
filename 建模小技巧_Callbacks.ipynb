{
  "cells": [
    {
      "cell_type": "markdown",
      "source": [
        "### 1. 什麼是`Callbacks`?\n",
        "Callback Function(回調函數)是指在模型訓練的過程中加入的觸發事件。 \\\n",
        "**常用的內建`Callbacks`：**\n",
        "\n",
        "* `CSVLogger`: 將整個訓練過程紀錄儲存成一個`.csv`的檔案。\n",
        "* `ModelCheckpoint`: 建立檢查點(Checkpoint)，讓模型在檢查點自動儲存。\n",
        "* `EarlyStopping`: 設定條件，當模型訓練過程滿足這個條件，就自動停止訓練。\n",
        "* `ReduceLROnPlateau`: 當模型訓練的成效已無改善時，自動降低學習率。\n",
        "* `TensorBoard`: 視覺化整個訓練過程的工具。"
      ],
      "metadata": {
        "id": "aeqTlAnz67Pv"
      }
    },
    {
      "cell_type": "code",
      "source": [
        "%matplotlib inline\n",
        "\n",
        "import numpy as np\n",
        "import matplotlib.pyplot as plt"
      ],
      "metadata": {
        "id": "2D1bP0EGRiPa"
      },
      "execution_count": null,
      "outputs": []
    },
    {
      "cell_type": "markdown",
      "source": [
        "### 2. 如何設定Callbacks?\n"
      ],
      "metadata": {
        "id": "5he5GKbHB55I"
      }
    },
    {
      "cell_type": "code",
      "source": [
        "# 引入需要的套件\n",
        "import tensorflow as tf\n",
        "from tensorflow import keras\n",
        "from tensorflow.keras import callbacks\n",
        "import os\n",
        "import datetime"
      ],
      "metadata": {
        "id": "vCFWD-2qR9d8"
      },
      "execution_count": null,
      "outputs": []
    },
    {
      "cell_type": "markdown",
      "source": [
        "#### 2.1 [CSVLogger]()"
      ],
      "metadata": {
        "id": "pDLrYUDQS8Dd"
      }
    },
    {
      "cell_type": "code",
      "source": [
        "folder = 'save_record'\n",
        "if not os.path.exists(folder):\n",
        "    os.mkdir(folder)\n",
        "    \n",
        "csv_path = './save_record/train_log.csv'  # 檔案儲存的位置\n",
        "\n",
        "csvlogger = callbacks.CSVLogger(csv_path, \n",
        "                                separator=',', # 檔案中的分隔字串\n",
        "                                append=False)  # 是否覆蓋已存在的檔案"
      ],
      "metadata": {
        "id": "U_20Am8B67Aw"
      },
      "execution_count": null,
      "outputs": []
    },
    {
      "cell_type": "markdown",
      "metadata": {
        "id": "N0CyhjyoAqlB"
      },
      "source": [
        "#### 2.2 [ModelCheckpoint](https://www.tensorflow.org/api_docs/python/tf/keras/callbacks/ModelCheckpoint)\n",
        "建立檢查點(Checkpoint)，讓模型在檢查點自動儲存。"
      ]
    },
    {
      "cell_type": "code",
      "execution_count": null,
      "metadata": {
        "id": "3dMEwvFbAqlC"
      },
      "outputs": [],
      "source": [
        "folder = 'save_model'\n",
        "if not os.path.exists(folder):\n",
        "    os.mkdir(folder)\n",
        "    \n",
        "model_path = './save_model/checkpoints_model.h5'  # 模型儲存的位置\n",
        "\n",
        "# 建立 Checkpoint\n",
        "checkpoint = callbacks.ModelCheckpoint(model_path,\n",
        "                                       verbose=1,\n",
        "                                       monitor='val_loss',   # 儲存模型的觀察指標\n",
        "                                       save_best_only=True,  # 是否只儲存最好的\n",
        "                                       mode='min')           # 與指標搭配模式"
      ]
    },
    {
      "cell_type": "markdown",
      "metadata": {
        "id": "AD3j6UJ00CHk"
      },
      "source": [
        "#### 2.3 [EarlyStopping](https://www.tensorflow.org/api_docs/python/tf/keras/callbacks/EarlyStopping)\n",
        "設定條件，當模型訓練過程滿足這個條件，就自動停止訓練。"
      ]
    },
    {
      "cell_type": "code",
      "execution_count": null,
      "metadata": {
        "id": "ybusmlo50IXc"
      },
      "outputs": [],
      "source": [
        "n_patience = 5  # 訓練過程經過 n_patience 次沒有進步就不忍了\n",
        "early_stopping = callbacks.EarlyStopping(monitor='val_loss',   # 停止訓練的觀察指標\n",
        "                                         patience=n_patience,\n",
        "                                         verbose=1)"
      ]
    },
    {
      "cell_type": "markdown",
      "metadata": {
        "id": "j0Ifo52ecglg"
      },
      "source": [
        "#### 2.4 [ReduceLROnPlateau](https://www.tensorflow.org/api_docs/python/tf/keras/callbacks/ReduceLROnPlateau)\n",
        "\n",
        "當模型訓練的成效已無改善時，自動降低學習率。"
      ]
    },
    {
      "cell_type": "code",
      "execution_count": null,
      "metadata": {
        "id": "ZrWIq_zccwTq"
      },
      "outputs": [],
      "source": [
        "lr_patience = 3 # 訓練過程經過 lr_patience 次沒有進步，就會調整學習率\n",
        "reduce_lr = callbacks.ReduceLROnPlateau(monitor='val_loss', # 調整學習率的觀察指標\n",
        "                                        factor=0.1, # 縮放學習率的值，lr = lr*factor\n",
        "                                        patience=lr_patience, \n",
        "                                        min_lr=1e-4, # 學習率縮放的最小值\n",
        "                                        verbose=1,\n",
        "                                        mode='min') # 與指標搭配模式"
      ]
    },
    {
      "cell_type": "markdown",
      "source": [
        "#### 2.5 [TensorBoard](https://www.tensorflow.org/api_docs/python/tf/keras/callbacks/TensorBoard)\n",
        "視覺化整個訓練過程的工具。"
      ],
      "metadata": {
        "id": "bbCJzeXYUy8r"
      }
    },
    {
      "cell_type": "code",
      "source": [
        "# 載入tensorboard的魔術指令\n",
        "%load_ext tensorboard"
      ],
      "metadata": {
        "id": "e9nRx3EKU3wB"
      },
      "execution_count": null,
      "outputs": []
    },
    {
      "cell_type": "code",
      "source": [
        "logdir = os.path.join('logs', \n",
        "                      datetime.datetime.now().strftime(\"%Y%m%d-%H%M%S\"))\n",
        "tensorboard = callbacks.TensorBoard(logdir,             # 訓練記錄儲存的位置\n",
        "                                    histogram_freq=1)   # 每一個epoch統計1次參數分布的直方圖"
      ],
      "metadata": {
        "id": "7NehEeg-Vb7T"
      },
      "execution_count": null,
      "outputs": []
    },
    {
      "cell_type": "markdown",
      "source": [
        "### 3. 用手寫辨識(MNIST)的全連結神經網路做示範"
      ],
      "metadata": {
        "id": "CUYWaRgAW0-E"
      }
    },
    {
      "cell_type": "markdown",
      "source": [
        "#### 3.1 由 tf.Keras 讀入 MNIST"
      ],
      "metadata": {
        "id": "xHkQCeTUXO5U"
      }
    },
    {
      "cell_type": "code",
      "source": [
        "from tensorflow.keras.datasets import mnist"
      ],
      "metadata": {
        "id": "g1K5L4vnXLEm"
      },
      "execution_count": null,
      "outputs": []
    },
    {
      "cell_type": "code",
      "source": [
        "(X_train, Y_train), (x_test, y_test) = mnist.load_data()"
      ],
      "metadata": {
        "id": "kA8ArKJrXWAN",
        "colab": {
          "base_uri": "https://localhost:8080/"
        },
        "outputId": "7fc68571-6b3e-45a6-86f3-164eccfbe664"
      },
      "execution_count": null,
      "outputs": [
        {
          "output_type": "stream",
          "name": "stdout",
          "text": [
            "Downloading data from https://storage.googleapis.com/tensorflow/tf-keras-datasets/mnist.npz\n",
            "11493376/11490434 [==============================] - 0s 0us/step\n",
            "11501568/11490434 [==============================] - 0s 0us/step\n"
          ]
        }
      ]
    },
    {
      "cell_type": "code",
      "source": [
        "print(f'訓練資料長度: {len(X_train)}')\n",
        "print(f'測試資料長度: {len(x_test)}')"
      ],
      "metadata": {
        "id": "g7tKdI72Xd76",
        "colab": {
          "base_uri": "https://localhost:8080/"
        },
        "outputId": "0c762d3f-0e08-4e77-bfc5-070955ec34e6"
      },
      "execution_count": null,
      "outputs": [
        {
          "output_type": "stream",
          "name": "stdout",
          "text": [
            "訓練資料長度: 60000\n",
            "測試資料長度: 10000\n"
          ]
        }
      ]
    },
    {
      "cell_type": "markdown",
      "source": [
        "#### 3.2 輸入格式整理"
      ],
      "metadata": {
        "id": "1Hq7Bx9gX9nS"
      }
    },
    {
      "cell_type": "code",
      "source": [
        "X_train.shape"
      ],
      "metadata": {
        "id": "Tu2KBm13XtU6",
        "colab": {
          "base_uri": "https://localhost:8080/"
        },
        "outputId": "1958aae5-d28d-40d1-aa7a-aea45f2eb500"
      },
      "execution_count": null,
      "outputs": [
        {
          "output_type": "execute_result",
          "data": {
            "text/plain": [
              "(60000, 28, 28)"
            ]
          },
          "metadata": {},
          "execution_count": 12
        }
      ]
    },
    {
      "cell_type": "code",
      "source": [
        "x_test.shape"
      ],
      "metadata": {
        "id": "jZ-QkRs_X7hq",
        "colab": {
          "base_uri": "https://localhost:8080/"
        },
        "outputId": "b9ca14b5-2dc6-431a-ea54-a836249802ab"
      },
      "execution_count": null,
      "outputs": [
        {
          "output_type": "execute_result",
          "data": {
            "text/plain": [
              "(10000, 28, 28)"
            ]
          },
          "metadata": {},
          "execution_count": 13
        }
      ]
    },
    {
      "cell_type": "code",
      "source": [
        "X_train = X_train.reshape(60000, 784)\n",
        "x_test = x_test.reshape(10000, 784)"
      ],
      "metadata": {
        "id": "6K0bUHAsX8zm"
      },
      "execution_count": null,
      "outputs": []
    },
    {
      "cell_type": "code",
      "source": [
        "X_train.shape"
      ],
      "metadata": {
        "id": "E_7yXXQ1dRds",
        "colab": {
          "base_uri": "https://localhost:8080/"
        },
        "outputId": "376eeedd-b6a7-46ee-8953-962a78d22b3d"
      },
      "execution_count": null,
      "outputs": [
        {
          "output_type": "execute_result",
          "data": {
            "text/plain": [
              "(60000, 784)"
            ]
          },
          "metadata": {},
          "execution_count": 15
        }
      ]
    },
    {
      "cell_type": "code",
      "source": [
        "x_test.shape"
      ],
      "metadata": {
        "id": "NLm6kV8kdUp2",
        "colab": {
          "base_uri": "https://localhost:8080/"
        },
        "outputId": "3edce614-efee-495b-e7cb-3af3f8dcd3e2"
      },
      "execution_count": null,
      "outputs": [
        {
          "output_type": "execute_result",
          "data": {
            "text/plain": [
              "(10000, 784)"
            ]
          },
          "metadata": {},
          "execution_count": 16
        }
      ]
    },
    {
      "cell_type": "markdown",
      "source": [
        "#### 3.3 輸出格式整理"
      ],
      "metadata": {
        "id": "npK2GidMYF1R"
      }
    },
    {
      "cell_type": "code",
      "source": [
        "Y_train.shape"
      ],
      "metadata": {
        "id": "raGNFDHzYCc7",
        "colab": {
          "base_uri": "https://localhost:8080/"
        },
        "outputId": "a1be3362-bf12-4060-8d14-95a915e18ec2"
      },
      "execution_count": null,
      "outputs": [
        {
          "output_type": "execute_result",
          "data": {
            "text/plain": [
              "(60000,)"
            ]
          },
          "metadata": {},
          "execution_count": 17
        }
      ]
    },
    {
      "cell_type": "code",
      "source": [
        "y_test.shape"
      ],
      "metadata": {
        "id": "0wD8PXbJYKQL",
        "colab": {
          "base_uri": "https://localhost:8080/"
        },
        "outputId": "6cc8344a-806e-4625-db87-fb3597301391"
      },
      "execution_count": null,
      "outputs": [
        {
          "output_type": "execute_result",
          "data": {
            "text/plain": [
              "(10000,)"
            ]
          },
          "metadata": {},
          "execution_count": 18
        }
      ]
    },
    {
      "cell_type": "code",
      "source": [
        "Y_train[0]"
      ],
      "metadata": {
        "id": "-LDbMpkvYRUP",
        "colab": {
          "base_uri": "https://localhost:8080/"
        },
        "outputId": "39e87540-59ed-4722-dccc-31313da9cfee"
      },
      "execution_count": null,
      "outputs": [
        {
          "output_type": "execute_result",
          "data": {
            "text/plain": [
              "5"
            ]
          },
          "metadata": {},
          "execution_count": 19
        }
      ]
    },
    {
      "cell_type": "markdown",
      "source": [
        "做 One-hot Encoding: "
      ],
      "metadata": {
        "id": "JqsHizoaYS1B"
      }
    },
    {
      "cell_type": "code",
      "source": [
        "from tensorflow.keras.utils import to_categorical"
      ],
      "metadata": {
        "id": "MQKka3d6YNT2"
      },
      "execution_count": null,
      "outputs": []
    },
    {
      "cell_type": "code",
      "source": [
        "Y_train = to_categorical(Y_train, 10)\n",
        "y_test = to_categorical(y_test, 10)"
      ],
      "metadata": {
        "id": "n1z1oatpYZM0"
      },
      "execution_count": null,
      "outputs": []
    },
    {
      "cell_type": "code",
      "source": [
        "Y_train[0]"
      ],
      "metadata": {
        "id": "N29K4ZekYa7b",
        "colab": {
          "base_uri": "https://localhost:8080/"
        },
        "outputId": "f7316d79-9f1e-48ed-c489-a25a27c18f85"
      },
      "execution_count": null,
      "outputs": [
        {
          "output_type": "execute_result",
          "data": {
            "text/plain": [
              "array([0., 0., 0., 0., 0., 1., 0., 0., 0., 0.], dtype=float32)"
            ]
          },
          "metadata": {},
          "execution_count": 22
        }
      ]
    },
    {
      "cell_type": "markdown",
      "source": [
        "將訓練資料再切分成訓練集和驗證集"
      ],
      "metadata": {
        "id": "6NE5ZJt3aeQd"
      }
    },
    {
      "cell_type": "code",
      "source": [
        "from sklearn.model_selection import train_test_split"
      ],
      "metadata": {
        "id": "iCyg0Diradur"
      },
      "execution_count": null,
      "outputs": []
    },
    {
      "cell_type": "code",
      "source": [
        "x_train, x_val, y_train, y_val = train_test_split(X_train, Y_train, \n",
        "                                                  test_size=0.4, \n",
        "                                                  shuffle=True,\n",
        "                                                  random_state=520)\n",
        "\n",
        "print(f'訓練集長度: {len(x_train)}')\n",
        "print(f'驗證集長度: {len(x_val)}')"
      ],
      "metadata": {
        "id": "0jFDdG7aaLKl",
        "colab": {
          "base_uri": "https://localhost:8080/"
        },
        "outputId": "b266b784-b879-4074-8c15-9f311fe2ff16"
      },
      "execution_count": null,
      "outputs": [
        {
          "output_type": "stream",
          "name": "stdout",
          "text": [
            "訓練集長度: 36000\n",
            "驗證集長度: 24000\n"
          ]
        }
      ]
    },
    {
      "cell_type": "markdown",
      "source": [
        "#### 3.4 建立模型"
      ],
      "metadata": {
        "id": "xnozvzxbYf-_"
      }
    },
    {
      "cell_type": "code",
      "source": [
        "from tensorflow.keras.models import Sequential\n",
        "from tensorflow.keras.layers import Dense"
      ],
      "metadata": {
        "id": "4e-msEIKYcWi"
      },
      "execution_count": null,
      "outputs": []
    },
    {
      "cell_type": "code",
      "source": [
        "model = Sequential()"
      ],
      "metadata": {
        "id": "WO8_GENsYpOM"
      },
      "execution_count": null,
      "outputs": []
    },
    {
      "cell_type": "code",
      "source": [
        "bias_initializer\n",
        "kernel_initializer"
      ],
      "metadata": {
        "id": "TPnCMTuyoenp"
      },
      "execution_count": null,
      "outputs": []
    },
    {
      "cell_type": "code",
      "source": [
        "model.add(Dense(588, input_dim=784, activation='relu'))\n",
        "model.add(Dense(294, activation='relu'))\n",
        "model.add(Dense(128, activation='relu'))\n",
        "model.add(Dense(64, activation='relu'))\n",
        "model.add(Dense(32, activation='relu'))\n",
        "model.add(Dense(16, activation='relu'))\n",
        "model.add(Dense(10, activation='softmax'))"
      ],
      "metadata": {
        "id": "d-sdVNMGYtMZ"
      },
      "execution_count": null,
      "outputs": []
    },
    {
      "cell_type": "code",
      "source": [
        "model.summary()"
      ],
      "metadata": {
        "id": "_g4-44gNZkQM",
        "colab": {
          "base_uri": "https://localhost:8080/"
        },
        "outputId": "01aaba66-cbaf-420b-b7e8-07eee4da30fb"
      },
      "execution_count": null,
      "outputs": [
        {
          "output_type": "stream",
          "name": "stdout",
          "text": [
            "Model: \"sequential\"\n",
            "_________________________________________________________________\n",
            " Layer (type)                Output Shape              Param #   \n",
            "=================================================================\n",
            " dense (Dense)               (None, 588)               461580    \n",
            "                                                                 \n",
            " dense_1 (Dense)             (None, 294)               173166    \n",
            "                                                                 \n",
            " dense_2 (Dense)             (None, 128)               37760     \n",
            "                                                                 \n",
            " dense_3 (Dense)             (None, 64)                8256      \n",
            "                                                                 \n",
            " dense_4 (Dense)             (None, 32)                2080      \n",
            "                                                                 \n",
            " dense_5 (Dense)             (None, 16)                528       \n",
            "                                                                 \n",
            " dense_6 (Dense)             (None, 10)                170       \n",
            "                                                                 \n",
            "=================================================================\n",
            "Total params: 683,540\n",
            "Trainable params: 683,540\n",
            "Non-trainable params: 0\n",
            "_________________________________________________________________\n"
          ]
        }
      ]
    },
    {
      "cell_type": "markdown",
      "source": [
        "#### 3.5 組裝"
      ],
      "metadata": {
        "id": "GYInuEaQZOxt"
      }
    },
    {
      "cell_type": "code",
      "source": [
        "model.compile(loss='mse', \n",
        "              optimizer='sgd', \n",
        "              metrics=['accuracy'])"
      ],
      "metadata": {
        "id": "iaXYn1rpZIL6"
      },
      "execution_count": null,
      "outputs": []
    },
    {
      "cell_type": "markdown",
      "source": [
        "#### 3.6 訓練"
      ],
      "metadata": {
        "id": "CL6cXZ4uZ0vR"
      }
    },
    {
      "cell_type": "code",
      "source": [
        "# 設定訓練參數\n",
        "batch_size = 100\n",
        "epochs = 100"
      ],
      "metadata": {
        "id": "t51NjtvhZvn7"
      },
      "execution_count": null,
      "outputs": []
    },
    {
      "cell_type": "code",
      "source": [
        "# 將所有 callbacks 用 list 包起來\n",
        "callbacks_list = [csvlogger, checkpoint, early_stopping, reduce_lr, tensorboard]"
      ],
      "metadata": {
        "id": "K1KsA8D3a5li"
      },
      "execution_count": null,
      "outputs": []
    },
    {
      "cell_type": "code",
      "source": [
        "history = model.fit(x_train, y_train,\n",
        "                    batch_size=batch_size,\n",
        "                    epochs=epochs,\n",
        "                    validation_data=(x_val, y_val),\n",
        "                    verbose=1,\n",
        "                    shuffle=True,\n",
        "                    callbacks=callbacks_list) "
      ],
      "metadata": {
        "id": "MFWj0HRvZ41D",
        "colab": {
          "base_uri": "https://localhost:8080/"
        },
        "outputId": "67389971-912e-49bb-d87a-108d43a77ba8"
      },
      "execution_count": null,
      "outputs": [
        {
          "output_type": "stream",
          "name": "stdout",
          "text": [
            "Epoch 1/100\n",
            "344/360 [===========================>..] - ETA: 0s - loss: 0.1001 - accuracy: 0.3498\n",
            "Epoch 1: val_loss improved from inf to 0.06277, saving model to ./save_model/checkpoints_model.h5\n",
            "360/360 [==============================] - 5s 5ms/step - loss: 0.0984 - accuracy: 0.3586 - val_loss: 0.0628 - val_accuracy: 0.5456 - lr: 0.0100\n",
            "Epoch 2/100\n",
            "360/360 [==============================] - ETA: 0s - loss: 0.0533 - accuracy: 0.6115\n",
            "Epoch 2: val_loss improved from 0.06277 to 0.04746, saving model to ./save_model/checkpoints_model.h5\n",
            "360/360 [==============================] - 2s 4ms/step - loss: 0.0533 - accuracy: 0.6115 - val_loss: 0.0475 - val_accuracy: 0.6532 - lr: 0.0100\n",
            "Epoch 3/100\n",
            "359/360 [============================>.] - ETA: 0s - loss: 0.0414 - accuracy: 0.7006\n",
            "Epoch 3: val_loss improved from 0.04746 to 0.03784, saving model to ./save_model/checkpoints_model.h5\n",
            "360/360 [==============================] - 2s 5ms/step - loss: 0.0414 - accuracy: 0.7007 - val_loss: 0.0378 - val_accuracy: 0.7290 - lr: 0.0100\n",
            "Epoch 4/100\n",
            "350/360 [============================>.] - ETA: 0s - loss: 0.0340 - accuracy: 0.7545\n",
            "Epoch 4: val_loss improved from 0.03784 to 0.03237, saving model to ./save_model/checkpoints_model.h5\n",
            "360/360 [==============================] - 1s 4ms/step - loss: 0.0340 - accuracy: 0.7547 - val_loss: 0.0324 - val_accuracy: 0.7645 - lr: 0.0100\n",
            "Epoch 5/100\n",
            "351/360 [============================>.] - ETA: 0s - loss: 0.0297 - accuracy: 0.7846\n",
            "Epoch 5: val_loss improved from 0.03237 to 0.02959, saving model to ./save_model/checkpoints_model.h5\n",
            "360/360 [==============================] - 2s 4ms/step - loss: 0.0297 - accuracy: 0.7847 - val_loss: 0.0296 - val_accuracy: 0.7872 - lr: 0.0100\n",
            "Epoch 6/100\n",
            "349/360 [============================>.] - ETA: 0s - loss: 0.0268 - accuracy: 0.8115\n",
            "Epoch 6: val_loss improved from 0.02959 to 0.02745, saving model to ./save_model/checkpoints_model.h5\n",
            "360/360 [==============================] - 2s 5ms/step - loss: 0.0269 - accuracy: 0.8111 - val_loss: 0.0275 - val_accuracy: 0.8101 - lr: 0.0100\n",
            "Epoch 7/100\n",
            "353/360 [============================>.] - ETA: 0s - loss: 0.0247 - accuracy: 0.8304\n",
            "Epoch 7: val_loss improved from 0.02745 to 0.02579, saving model to ./save_model/checkpoints_model.h5\n",
            "360/360 [==============================] - 2s 4ms/step - loss: 0.0248 - accuracy: 0.8303 - val_loss: 0.0258 - val_accuracy: 0.8194 - lr: 0.0100\n",
            "Epoch 8/100\n",
            "359/360 [============================>.] - ETA: 0s - loss: 0.0232 - accuracy: 0.8407\n",
            "Epoch 8: val_loss improved from 0.02579 to 0.02488, saving model to ./save_model/checkpoints_model.h5\n",
            "360/360 [==============================] - 2s 5ms/step - loss: 0.0232 - accuracy: 0.8407 - val_loss: 0.0249 - val_accuracy: 0.8280 - lr: 0.0100\n",
            "Epoch 9/100\n",
            "349/360 [============================>.] - ETA: 0s - loss: 0.0219 - accuracy: 0.8449\n",
            "Epoch 9: val_loss improved from 0.02488 to 0.02343, saving model to ./save_model/checkpoints_model.h5\n",
            "360/360 [==============================] - 1s 4ms/step - loss: 0.0219 - accuracy: 0.8453 - val_loss: 0.0234 - val_accuracy: 0.8317 - lr: 0.0100\n",
            "Epoch 10/100\n",
            "342/360 [===========================>..] - ETA: 0s - loss: 0.0188 - accuracy: 0.8808\n",
            "Epoch 10: val_loss improved from 0.02343 to 0.01935, saving model to ./save_model/checkpoints_model.h5\n",
            "360/360 [==============================] - 2s 4ms/step - loss: 0.0187 - accuracy: 0.8812 - val_loss: 0.0194 - val_accuracy: 0.8730 - lr: 0.0100\n",
            "Epoch 11/100\n",
            "344/360 [===========================>..] - ETA: 0s - loss: 0.0156 - accuracy: 0.8990\n",
            "Epoch 11: val_loss improved from 0.01935 to 0.01747, saving model to ./save_model/checkpoints_model.h5\n",
            "360/360 [==============================] - 1s 4ms/step - loss: 0.0155 - accuracy: 0.8994 - val_loss: 0.0175 - val_accuracy: 0.8854 - lr: 0.0100\n",
            "Epoch 12/100\n",
            "347/360 [===========================>..] - ETA: 0s - loss: 0.0140 - accuracy: 0.9099\n",
            "Epoch 12: val_loss improved from 0.01747 to 0.01660, saving model to ./save_model/checkpoints_model.h5\n",
            "360/360 [==============================] - 2s 5ms/step - loss: 0.0140 - accuracy: 0.9101 - val_loss: 0.0166 - val_accuracy: 0.8910 - lr: 0.0100\n",
            "Epoch 13/100\n",
            "348/360 [============================>.] - ETA: 0s - loss: 0.0128 - accuracy: 0.9171\n",
            "Epoch 13: val_loss improved from 0.01660 to 0.01579, saving model to ./save_model/checkpoints_model.h5\n",
            "360/360 [==============================] - 2s 5ms/step - loss: 0.0128 - accuracy: 0.9168 - val_loss: 0.0158 - val_accuracy: 0.8980 - lr: 0.0100\n",
            "Epoch 14/100\n",
            "355/360 [============================>.] - ETA: 0s - loss: 0.0119 - accuracy: 0.9237\n",
            "Epoch 14: val_loss improved from 0.01579 to 0.01525, saving model to ./save_model/checkpoints_model.h5\n",
            "360/360 [==============================] - 2s 5ms/step - loss: 0.0119 - accuracy: 0.9236 - val_loss: 0.0152 - val_accuracy: 0.9009 - lr: 0.0100\n",
            "Epoch 15/100\n",
            "357/360 [============================>.] - ETA: 0s - loss: 0.0112 - accuracy: 0.9290\n",
            "Epoch 15: val_loss improved from 0.01525 to 0.01460, saving model to ./save_model/checkpoints_model.h5\n",
            "360/360 [==============================] - 2s 5ms/step - loss: 0.0112 - accuracy: 0.9289 - val_loss: 0.0146 - val_accuracy: 0.9059 - lr: 0.0100\n",
            "Epoch 16/100\n",
            "355/360 [============================>.] - ETA: 0s - loss: 0.0106 - accuracy: 0.9342\n",
            "Epoch 16: val_loss improved from 0.01460 to 0.01425, saving model to ./save_model/checkpoints_model.h5\n",
            "360/360 [==============================] - 2s 4ms/step - loss: 0.0105 - accuracy: 0.9343 - val_loss: 0.0142 - val_accuracy: 0.9082 - lr: 0.0100\n",
            "Epoch 17/100\n",
            "355/360 [============================>.] - ETA: 0s - loss: 0.0100 - accuracy: 0.9376\n",
            "Epoch 17: val_loss improved from 0.01425 to 0.01395, saving model to ./save_model/checkpoints_model.h5\n",
            "360/360 [==============================] - 2s 5ms/step - loss: 0.0100 - accuracy: 0.9376 - val_loss: 0.0139 - val_accuracy: 0.9094 - lr: 0.0100\n",
            "Epoch 18/100\n",
            "345/360 [===========================>..] - ETA: 0s - loss: 0.0095 - accuracy: 0.9410\n",
            "Epoch 18: val_loss improved from 0.01395 to 0.01367, saving model to ./save_model/checkpoints_model.h5\n",
            "360/360 [==============================] - 2s 4ms/step - loss: 0.0095 - accuracy: 0.9412 - val_loss: 0.0137 - val_accuracy: 0.9120 - lr: 0.0100\n",
            "Epoch 19/100\n",
            "356/360 [============================>.] - ETA: 0s - loss: 0.0091 - accuracy: 0.9439\n",
            "Epoch 19: val_loss improved from 0.01367 to 0.01341, saving model to ./save_model/checkpoints_model.h5\n",
            "360/360 [==============================] - 2s 4ms/step - loss: 0.0091 - accuracy: 0.9441 - val_loss: 0.0134 - val_accuracy: 0.9138 - lr: 0.0100\n",
            "Epoch 20/100\n",
            "346/360 [===========================>..] - ETA: 0s - loss: 0.0087 - accuracy: 0.9466\n",
            "Epoch 20: val_loss improved from 0.01341 to 0.01323, saving model to ./save_model/checkpoints_model.h5\n",
            "360/360 [==============================] - 2s 5ms/step - loss: 0.0087 - accuracy: 0.9465 - val_loss: 0.0132 - val_accuracy: 0.9154 - lr: 0.0100\n",
            "Epoch 21/100\n",
            "360/360 [==============================] - ETA: 0s - loss: 0.0083 - accuracy: 0.9493\n",
            "Epoch 21: val_loss improved from 0.01323 to 0.01296, saving model to ./save_model/checkpoints_model.h5\n",
            "360/360 [==============================] - 2s 4ms/step - loss: 0.0083 - accuracy: 0.9493 - val_loss: 0.0130 - val_accuracy: 0.9181 - lr: 0.0100\n",
            "Epoch 22/100\n",
            "355/360 [============================>.] - ETA: 0s - loss: 0.0080 - accuracy: 0.9513\n",
            "Epoch 22: val_loss improved from 0.01296 to 0.01280, saving model to ./save_model/checkpoints_model.h5\n",
            "360/360 [==============================] - 2s 4ms/step - loss: 0.0080 - accuracy: 0.9513 - val_loss: 0.0128 - val_accuracy: 0.9175 - lr: 0.0100\n",
            "Epoch 23/100\n",
            "355/360 [============================>.] - ETA: 0s - loss: 0.0077 - accuracy: 0.9536\n",
            "Epoch 23: val_loss improved from 0.01280 to 0.01278, saving model to ./save_model/checkpoints_model.h5\n",
            "360/360 [==============================] - 2s 4ms/step - loss: 0.0077 - accuracy: 0.9536 - val_loss: 0.0128 - val_accuracy: 0.9189 - lr: 0.0100\n",
            "Epoch 24/100\n",
            "340/360 [===========================>..] - ETA: 0s - loss: 0.0074 - accuracy: 0.9555\n",
            "Epoch 24: val_loss improved from 0.01278 to 0.01257, saving model to ./save_model/checkpoints_model.h5\n",
            "360/360 [==============================] - 2s 5ms/step - loss: 0.0074 - accuracy: 0.9556 - val_loss: 0.0126 - val_accuracy: 0.9195 - lr: 0.0100\n",
            "Epoch 25/100\n",
            "350/360 [============================>.] - ETA: 0s - loss: 0.0072 - accuracy: 0.9568\n",
            "Epoch 25: val_loss improved from 0.01257 to 0.01232, saving model to ./save_model/checkpoints_model.h5\n",
            "360/360 [==============================] - 2s 5ms/step - loss: 0.0072 - accuracy: 0.9569 - val_loss: 0.0123 - val_accuracy: 0.9201 - lr: 0.0100\n",
            "Epoch 26/100\n",
            "340/360 [===========================>..] - ETA: 0s - loss: 0.0069 - accuracy: 0.9584\n",
            "Epoch 26: val_loss did not improve from 0.01232\n",
            "360/360 [==============================] - 2s 5ms/step - loss: 0.0069 - accuracy: 0.9585 - val_loss: 0.0128 - val_accuracy: 0.9188 - lr: 0.0100\n",
            "Epoch 27/100\n",
            "341/360 [===========================>..] - ETA: 0s - loss: 0.0067 - accuracy: 0.9597\n",
            "Epoch 27: val_loss improved from 0.01232 to 0.01227, saving model to ./save_model/checkpoints_model.h5\n",
            "360/360 [==============================] - 2s 5ms/step - loss: 0.0067 - accuracy: 0.9598 - val_loss: 0.0123 - val_accuracy: 0.9222 - lr: 0.0100\n",
            "Epoch 28/100\n",
            "355/360 [============================>.] - ETA: 0s - loss: 0.0065 - accuracy: 0.9616\n",
            "Epoch 28: val_loss improved from 0.01227 to 0.01212, saving model to ./save_model/checkpoints_model.h5\n",
            "360/360 [==============================] - 2s 4ms/step - loss: 0.0065 - accuracy: 0.9614 - val_loss: 0.0121 - val_accuracy: 0.9224 - lr: 0.0100\n",
            "Epoch 29/100\n",
            "355/360 [============================>.] - ETA: 0s - loss: 0.0064 - accuracy: 0.9619\n",
            "Epoch 29: val_loss improved from 0.01212 to 0.01201, saving model to ./save_model/checkpoints_model.h5\n",
            "360/360 [==============================] - 2s 5ms/step - loss: 0.0063 - accuracy: 0.9621 - val_loss: 0.0120 - val_accuracy: 0.9225 - lr: 0.0100\n",
            "Epoch 30/100\n",
            "359/360 [============================>.] - ETA: 0s - loss: 0.0061 - accuracy: 0.9634\n",
            "Epoch 30: val_loss improved from 0.01201 to 0.01191, saving model to ./save_model/checkpoints_model.h5\n",
            "360/360 [==============================] - 2s 4ms/step - loss: 0.0061 - accuracy: 0.9633 - val_loss: 0.0119 - val_accuracy: 0.9240 - lr: 0.0100\n",
            "Epoch 31/100\n",
            "355/360 [============================>.] - ETA: 0s - loss: 0.0060 - accuracy: 0.9643\n",
            "Epoch 31: val_loss improved from 0.01191 to 0.01191, saving model to ./save_model/checkpoints_model.h5\n",
            "360/360 [==============================] - 2s 5ms/step - loss: 0.0060 - accuracy: 0.9642 - val_loss: 0.0119 - val_accuracy: 0.9237 - lr: 0.0100\n",
            "Epoch 32/100\n",
            "346/360 [===========================>..] - ETA: 0s - loss: 0.0059 - accuracy: 0.9652\n",
            "Epoch 32: val_loss did not improve from 0.01191\n",
            "360/360 [==============================] - 2s 5ms/step - loss: 0.0058 - accuracy: 0.9654 - val_loss: 0.0119 - val_accuracy: 0.9236 - lr: 0.0100\n",
            "Epoch 33/100\n",
            "341/360 [===========================>..] - ETA: 0s - loss: 0.0058 - accuracy: 0.9657\n",
            "Epoch 33: val_loss improved from 0.01191 to 0.01174, saving model to ./save_model/checkpoints_model.h5\n",
            "360/360 [==============================] - 2s 4ms/step - loss: 0.0057 - accuracy: 0.9661 - val_loss: 0.0117 - val_accuracy: 0.9253 - lr: 0.0100\n",
            "Epoch 34/100\n",
            "359/360 [============================>.] - ETA: 0s - loss: 0.0056 - accuracy: 0.9668\n",
            "Epoch 34: val_loss did not improve from 0.01174\n",
            "360/360 [==============================] - 2s 5ms/step - loss: 0.0056 - accuracy: 0.9668 - val_loss: 0.0118 - val_accuracy: 0.9250 - lr: 0.0100\n",
            "Epoch 35/100\n",
            "350/360 [============================>.] - ETA: 0s - loss: 0.0054 - accuracy: 0.9677\n",
            "Epoch 35: val_loss improved from 0.01174 to 0.01160, saving model to ./save_model/checkpoints_model.h5\n",
            "360/360 [==============================] - 2s 5ms/step - loss: 0.0055 - accuracy: 0.9676 - val_loss: 0.0116 - val_accuracy: 0.9257 - lr: 0.0100\n",
            "Epoch 36/100\n",
            "357/360 [============================>.] - ETA: 0s - loss: 0.0053 - accuracy: 0.9681\n",
            "Epoch 36: val_loss did not improve from 0.01160\n",
            "360/360 [==============================] - 2s 4ms/step - loss: 0.0053 - accuracy: 0.9682 - val_loss: 0.0116 - val_accuracy: 0.9262 - lr: 0.0100\n",
            "Epoch 37/100\n",
            "360/360 [==============================] - ETA: 0s - loss: 0.0052 - accuracy: 0.9689\n",
            "Epoch 37: val_loss improved from 0.01160 to 0.01157, saving model to ./save_model/checkpoints_model.h5\n",
            "360/360 [==============================] - 2s 5ms/step - loss: 0.0052 - accuracy: 0.9689 - val_loss: 0.0116 - val_accuracy: 0.9270 - lr: 0.0100\n",
            "Epoch 38/100\n",
            "342/360 [===========================>..] - ETA: 0s - loss: 0.0051 - accuracy: 0.9697\n",
            "Epoch 38: val_loss improved from 0.01157 to 0.01156, saving model to ./save_model/checkpoints_model.h5\n",
            "\n",
            "Epoch 38: ReduceLROnPlateau reducing learning rate to 0.0009999999776482583.\n",
            "360/360 [==============================] - 2s 5ms/step - loss: 0.0051 - accuracy: 0.9697 - val_loss: 0.0116 - val_accuracy: 0.9266 - lr: 0.0100\n",
            "Epoch 39/100\n",
            "360/360 [==============================] - ETA: 0s - loss: 0.0050 - accuracy: 0.9707\n",
            "Epoch 39: val_loss improved from 0.01156 to 0.01142, saving model to ./save_model/checkpoints_model.h5\n",
            "360/360 [==============================] - 2s 5ms/step - loss: 0.0050 - accuracy: 0.9707 - val_loss: 0.0114 - val_accuracy: 0.9278 - lr: 1.0000e-03\n",
            "Epoch 40/100\n",
            "350/360 [============================>.] - ETA: 0s - loss: 0.0049 - accuracy: 0.9706\n",
            "Epoch 40: val_loss improved from 0.01142 to 0.01142, saving model to ./save_model/checkpoints_model.h5\n",
            "360/360 [==============================] - 2s 4ms/step - loss: 0.0049 - accuracy: 0.9707 - val_loss: 0.0114 - val_accuracy: 0.9278 - lr: 1.0000e-03\n",
            "Epoch 41/100\n",
            "342/360 [===========================>..] - ETA: 0s - loss: 0.0049 - accuracy: 0.9708\n",
            "Epoch 41: val_loss did not improve from 0.01142\n",
            "360/360 [==============================] - 1s 4ms/step - loss: 0.0049 - accuracy: 0.9707 - val_loss: 0.0114 - val_accuracy: 0.9279 - lr: 1.0000e-03\n",
            "Epoch 42/100\n",
            "356/360 [============================>.] - ETA: 0s - loss: 0.0049 - accuracy: 0.9709\n",
            "Epoch 42: val_loss did not improve from 0.01142\n",
            "\n",
            "Epoch 42: ReduceLROnPlateau reducing learning rate to 0.0001.\n",
            "360/360 [==============================] - 2s 4ms/step - loss: 0.0049 - accuracy: 0.9709 - val_loss: 0.0114 - val_accuracy: 0.9279 - lr: 1.0000e-03\n",
            "Epoch 43/100\n",
            "345/360 [===========================>..] - ETA: 0s - loss: 0.0049 - accuracy: 0.9709\n",
            "Epoch 43: val_loss did not improve from 0.01142\n",
            "360/360 [==============================] - 2s 5ms/step - loss: 0.0049 - accuracy: 0.9710 - val_loss: 0.0114 - val_accuracy: 0.9280 - lr: 1.0000e-04\n",
            "Epoch 44/100\n",
            "355/360 [============================>.] - ETA: 0s - loss: 0.0049 - accuracy: 0.9710\n",
            "Epoch 44: val_loss did not improve from 0.01142\n",
            "360/360 [==============================] - 1s 4ms/step - loss: 0.0049 - accuracy: 0.9710 - val_loss: 0.0114 - val_accuracy: 0.9280 - lr: 1.0000e-04\n",
            "Epoch 45/100\n",
            "345/360 [===========================>..] - ETA: 0s - loss: 0.0049 - accuracy: 0.9711\n",
            "Epoch 45: val_loss did not improve from 0.01142\n",
            "360/360 [==============================] - 1s 4ms/step - loss: 0.0049 - accuracy: 0.9710 - val_loss: 0.0114 - val_accuracy: 0.9282 - lr: 1.0000e-04\n",
            "Epoch 45: early stopping\n"
          ]
        }
      ]
    },
    {
      "cell_type": "code",
      "source": [
        "# 訓練結束後可以使用魔術指令開啟tensorboard\n",
        "%tensorboard --logdir logs"
      ],
      "metadata": {
        "id": "xjFEVXxhefZU",
        "colab": {
          "base_uri": "https://localhost:8080/"
        },
        "outputId": "25d5b070-c256-41a2-bfb6-26d83c3d9e2e"
      },
      "execution_count": 1,
      "outputs": [
        {
          "output_type": "stream",
          "name": "stderr",
          "text": [
            "UsageError: Line magic function `%tensorboard` not found.\n"
          ]
        }
      ]
    },
    {
      "cell_type": "markdown",
      "source": [
        "#### 3.7 試用我們的結果"
      ],
      "metadata": {
        "id": "yE44za1te3-R"
      }
    },
    {
      "cell_type": "code",
      "source": [
        "from ipywidgets import interact_manual"
      ],
      "metadata": {
        "id": "2BOyaKZRe8Hj"
      },
      "execution_count": null,
      "outputs": []
    },
    {
      "cell_type": "code",
      "source": [
        "y_predict = np.argmax(model.predict(x_test), axis=-1)"
      ],
      "metadata": {
        "id": "BtSgPDKqe-DU"
      },
      "execution_count": null,
      "outputs": []
    },
    {
      "cell_type": "code",
      "source": [
        "y_predict"
      ],
      "metadata": {
        "id": "XZ_omJ2Se_sa",
        "colab": {
          "base_uri": "https://localhost:8080/"
        },
        "outputId": "cccda614-6660-40f8-917d-918d43facd4b"
      },
      "execution_count": null,
      "outputs": [
        {
          "output_type": "execute_result",
          "data": {
            "text/plain": [
              "array([7, 2, 1, ..., 4, 5, 6])"
            ]
          },
          "metadata": {},
          "execution_count": 36
        }
      ]
    },
    {
      "cell_type": "code",
      "source": [
        "def test(測試編號):\n",
        "    plt.imshow(x_test[測試編號].reshape(28,28), cmap='Greys')\n",
        "    print('神經網路判斷為:', y_predict[測試編號])"
      ],
      "metadata": {
        "id": "eNthY1gxfBA7"
      },
      "execution_count": null,
      "outputs": []
    },
    {
      "cell_type": "code",
      "source": [
        "test(87)"
      ],
      "metadata": {
        "id": "NfzeJZyafDB6",
        "colab": {
          "base_uri": "https://localhost:8080/",
          "height": 282
        },
        "outputId": "8dd384fa-3c1c-4331-99da-41dee8ab3610"
      },
      "execution_count": null,
      "outputs": [
        {
          "output_type": "stream",
          "name": "stdout",
          "text": [
            "神經網路判斷為: 3\n"
          ]
        },
        {
          "output_type": "display_data",
          "data": {
            "text/plain": [
              "<Figure size 432x288 with 1 Axes>"
            ],
            "image/png": "[encoded data removed]"
          },
          "metadata": {
            "needs_background": "light"
          }
        }
      ]
    },
    {
      "cell_type": "code",
      "source": [
        "interact_manual(test, 測試編號=(0, 9999))"
      ],
      "metadata": {
        "id": "eGg3aw4WfEIV",
        "colab": {
          "base_uri": "https://localhost:8080/",
          "height": 364,
          "referenced_widgets": [
            "206016034e8d416c9eeecc664f6b67a3",
            "257813f62b694bf5a856d69a5c1a10a7",
            "f9348219df0442d6835588643f7e2553",
            "8be0eb7faa474088a4d16724468c24c7",
            "8036091ed54742cfb0df2d755ff13e3d",
            "8d19abd49ceb42c7b4924d7558d1047d",
            "83f649c2f1ae4feca59bdeb3c3bda4e3",
            "5bbc6bbbeb2444ef9e58354c03abc626",
            "3aeb6f4012a640c69b744cd7691f92e4",
            "eeeb2c651c5348e69a47838d0e1f6da4"
          ]
        },
        "outputId": "902383f0-955f-4aca-b941-f8870dd90a66"
      },
      "execution_count": null,
      "outputs": [
        {
          "output_type": "display_data",
          "data": {
            "text/plain": [
              "interactive(children=(IntSlider(value=4999, description='測試編號', max=9999), Button(description='Run Interact', …"
            ],
            "application/vnd.jupyter.widget-view+json": {
              "version_major": 2,
              "version_minor": 0,
              "model_id": "206016034e8d416c9eeecc664f6b67a3"
            }
          },
          "metadata": {}
        },
        {
          "output_type": "execute_result",
          "data": {
            "text/plain": [
              "<function __main__.test>"
            ]
          },
          "metadata": {},
          "execution_count": 50
        }
      ]
    },
    {
      "cell_type": "code",
      "source": [
        "score = model.evaluate(x_test, y_test)"
      ],
      "metadata": {
        "id": "jBgYXwUMfG2V",
        "colab": {
          "base_uri": "https://localhost:8080/"
        },
        "outputId": "5ee6e8a2-1a6f-4c6c-c398-38f36b537261"
      },
      "execution_count": null,
      "outputs": [
        {
          "output_type": "stream",
          "name": "stdout",
          "text": [
            "313/313 [==============================] - 1s 3ms/step - loss: 0.0115 - accuracy: 0.9274\n"
          ]
        }
      ]
    },
    {
      "cell_type": "code",
      "source": [
        "print('loss:', score[0])\n",
        "print('正確率', score[1])"
      ],
      "metadata": {
        "id": "IJGggIAdfIuE",
        "colab": {
          "base_uri": "https://localhost:8080/"
        },
        "outputId": "3c4f460b-19e7-408d-e31e-b60db19e8a9d"
      },
      "execution_count": null,
      "outputs": [
        {
          "output_type": "stream",
          "name": "stdout",
          "text": [
            "loss: 0.011488819494843483\n",
            "正確率 0.9273999929428101\n"
          ]
        }
      ]
    }
  ],
  "metadata": {
    "colab": {
      "collapsed_sections": [],
      "name": "建模小技巧-Callbacks",
      "provenance": []
    },
    "kernelspec": {
      "display_name": "Python 3",
      "language": "python",
      "name": "python3"
    },
    "language_info": {
      "codemirror_mode": {
        "name": "ipython",
        "version": 3
      },
      "file_extension": ".py",
      "mimetype": "text/x-python",
      "name": "python",
      "nbconvert_exporter": "python",
      "pygments_lexer": "ipython3",
      "version": "3.9.7"
    },
    "accelerator": "GPU",
    "widgets": {
      "application/vnd.jupyter.widget-state+json": {
        "206016034e8d416c9eeecc664f6b67a3": {
          "model_module": "@jupyter-widgets/controls",
          "model_name": "VBoxModel",
          "model_module_version": "1.5.0",
          "state": {
            "_dom_classes": [
              "widget-interact"
            ],
            "_model_module": "@jupyter-widgets/controls",
            "_model_module_version": "1.5.0",
            "_model_name": "VBoxModel",
            "_view_count": null,
            "_view_module": "@jupyter-widgets/controls",
            "_view_module_version": "1.5.0",
            "_view_name": "VBoxView",
            "box_style": "",
            "children": [
              "IPY_MODEL_257813f62b694bf5a856d69a5c1a10a7",
              "IPY_MODEL_f9348219df0442d6835588643f7e2553",
              "IPY_MODEL_8be0eb7faa474088a4d16724468c24c7"
            ],
            "layout": "IPY_MODEL_8036091ed54742cfb0df2d755ff13e3d"
          }
        },
        "257813f62b694bf5a856d69a5c1a10a7": {
          "model_module": "@jupyter-widgets/controls",
          "model_name": "IntSliderModel",
          "model_module_version": "1.5.0",
          "state": {
            "_dom_classes": [],
            "_model_module": "@jupyter-widgets/controls",
            "_model_module_version": "1.5.0",
            "_model_name": "IntSliderModel",
            "_view_count": null,
            "_view_module": "@jupyter-widgets/controls",
            "_view_module_version": "1.5.0",
            "_view_name": "IntSliderView",
            "continuous_update": true,
            "description": "測試編號",
            "description_tooltip": null,
            "disabled": false,
            "layout": "IPY_MODEL_8d19abd49ceb42c7b4924d7558d1047d",
            "max": 9999,
            "min": 0,
            "orientation": "horizontal",
            "readout": true,
            "readout_format": "d",
            "step": 1,
            "style": "IPY_MODEL_83f649c2f1ae4feca59bdeb3c3bda4e3",
            "value": 2177
          }
        },
        "f9348219df0442d6835588643f7e2553": {
          "model_module": "@jupyter-widgets/controls",
          "model_name": "ButtonModel",
          "model_module_version": "1.5.0",
          "state": {
            "_dom_classes": [],
            "_model_module": "@jupyter-widgets/controls",
            "_model_module_version": "1.5.0",
            "_model_name": "ButtonModel",
            "_view_count": null,
            "_view_module": "@jupyter-widgets/controls",
            "_view_module_version": "1.5.0",
            "_view_name": "ButtonView",
            "button_style": "",
            "description": "Run Interact",
            "disabled": false,
            "icon": "",
            "layout": "IPY_MODEL_5bbc6bbbeb2444ef9e58354c03abc626",
            "style": "IPY_MODEL_3aeb6f4012a640c69b744cd7691f92e4",
            "tooltip": ""
          }
        },
        "8be0eb7faa474088a4d16724468c24c7": {
          "model_module": "@jupyter-widgets/output",
          "model_name": "OutputModel",
          "model_module_version": "1.0.0",
          "state": {
            "_dom_classes": [],
            "_model_module": "@jupyter-widgets/output",
            "_model_module_version": "1.0.0",
            "_model_name": "OutputModel",
            "_view_count": null,
            "_view_module": "@jupyter-widgets/output",
            "_view_module_version": "1.0.0",
            "_view_name": "OutputView",
            "layout": "IPY_MODEL_eeeb2c651c5348e69a47838d0e1f6da4",
            "msg_id": "",
            "outputs": [
              {
                "output_type": "stream",
                "name": "stdout",
                "text": [
                  "神經網路判斷為: 8\n"
                ]
              },
              {
                "output_type": "display_data",
                "data": {
                  "text/plain": "<Figure size 432x288 with 1 Axes>",
                  "image/png": "iVBORw0KGgoAAAANSUhEUgAAAPsAAAD4CAYAAAAq5pAIAAAABHNCSVQICAgIfAhkiAAAAAlwSFlzAAALEgAACxIB0t1+/AAAADh0RVh0U29mdHdhcmUAbWF0cGxvdGxpYiB2ZXJzaW9uMy4yLjIsIGh0dHA6Ly9tYXRwbG90bGliLm9yZy+WH4yJAAAO2UlEQVR4nO3df4jVdb7H8dc7t1UyKycns9acbYsgbt12OUSl5dSS/YJsoewHSaE0EUW7MsFaQdsfBnG9u8slKjAL9aJZ0EYS0Vq2KCuxdEwry7p6xVh/5YhJBWY3e98/5usy1Xw/Zzzf7/kxvp8PGObM9zXfOe8OvfzOOd/znY+5uwAc/Y5p9QAAmoOyA0FQdiAIyg4EQdmBIH7SzDsbN26cd3V1NfMugVC2bdumvXv32mBZobKb2dWS/kvSCEkL3f3x1Pd3dXWpWq0WuUsACZVKJTer+9d4Mxsh6UlJ10g6V9KtZnZuvT8PQGMVec5+oaQt7r7V3b+RtFzS9HLGAlC2ImU/XdI/B3y9Pdv2PWbWY2ZVM6v29fUVuDsARTT81Xh3X+DuFXevdHZ2NvruAOQoUvYdkiYO+Ppn2TYAbahI2d+RdLaZ/dzMfirpFkkryhkLQNnqPvXm7t+a2X2S/qr+U2/PufuHpU0GoFSFzrO7+2uSXitpFgANxNtlgSAoOxAEZQeCoOxAEJQdCIKyA0FQdiAIyg4EQdmBICg7EARlB4Kg7EAQlB0IgrIDQVB2IAjKDgRB2YEgKDsQBGUHgqDsQBCUHQiiqUs2Y3A7d+5M5g8++GAy37JlS242ZcqU5L533313Mj/zzDOTOYYPjuxAEJQdCIKyA0FQdiAIyg4EQdmBICg7EATn2YfI3XOztWvXJvedO3duMn/vvfeS+TfffJPMTz755Nzs448/Tu77xBNPJPObb745mT/99NPJfNSoUckczVOo7Ga2TdKXkg5J+tbdK2UMBaB8ZRzZL3f3vSX8HAANxHN2IIiiZXdJK81snZn1DPYNZtZjZlUzq/b19RW8OwD1Klr2Ke7+K0nXSLrXzC774Te4+wJ3r7h7pbOzs+DdAahXobK7+47s8x5JL0u6sIyhAJSv7rKb2WgzG3P4tqRpkjaWNRiAchV5NX68pJfN7PDPWebur5cyVRs6cOBAbjZ16tRCP/v6669P5vPnz0/mZ511Vm721VdfJfetVqvJ/JZbbknmkyZNSuZvv/12bsa18s1Vd9ndfaukfy9xFgANxKk3IAjKDgRB2YEgKDsQBGUHguAS1yF6+OGH6973vPPOS+ZLlixJ5mPGjKn7vo8//vhk3t3dncxffPHFQvunLu+t9bNRLo7sQBCUHQiCsgNBUHYgCMoOBEHZgSAoOxAE59mHaPXq1XXv29vbm8yLnEdvtMsu+9EfHzoitS6BRfNwZAeCoOxAEJQdCIKyA0FQdiAIyg4EQdmBIDjPPkRnnHFGbrZhw4YmTtJc69evT+appawl6YsvvsjNai33fPvttyfzdn5/QjviyA4EQdmBICg7EARlB4Kg7EAQlB0IgrIDQXCefYgWLVqUm5122mnJfWstuTxt2rRkPn78+GRexHfffZfMP//882SeLdmda+HChUc802G1/ub9zJkz6/7ZEdU8spvZc2a2x8w2DtjWYWZvmNnm7PPYxo4JoKih/Bq/SNLVP9g2V9Iqdz9b0qrsawBtrGbZ3X2NpH0/2Dxd0uLs9mJJN5Q8F4CS1fsC3Xh335Xd3i0p90mlmfWYWdXMqn19fXXeHYCiCr8a7/1XQuReDeHuC9y94u6Vzs7OoncHoE71lv0zM5sgSdnnPeWNBKAR6i37Ckl3ZLfvkPRKOeMAaJSa59nN7HlJ3ZLGmdl2SX+Q9LikF81stqRPJc1o5JDt4KSTTsrN3nrrreS+V1xxRTKvdZ4+dY5fSp+nr3WOfuXKlcn8uuuuS+a1jBw5MjdbtmxZct+if7Me31ez7O5+a07065JnAdBAvF0WCIKyA0FQdiAIyg4EQdmBILjEtQQXXXRRMt+5c2cyr3UJ7Jw5c5L5wYMHc7Nal4nu3bs3mRe1adOm3IzlnJuLIzsQBGUHgqDsQBCUHQiCsgNBUHYgCMoOBMF59iZIXR4rSY899lgynzVrVjK/5557crNVq1Yl9220N998Mze78cYbk/ueeOKJZY8TGkd2IAjKDgRB2YEgKDsQBGUHgqDsQBCUHQiC8+zDQK3z9OvWrcvN+hfsyTd69Ohk3t3dncxfffXVZH7XXXfVlUnSjBnpv1D+1FNPJfOOjo5kHg1HdiAIyg4EQdmBICg7EARlB4Kg7EAQlB0IgvPsw8AzzzyTzPfv35+bjRo1KrlvrSWbL7744mTe19eXzFesWJGbLV26NLnvSy+9lMxT18pL0gsvvJCbXX755cl9jznm6DsO1vwvMrPnzGyPmW0csO1RM9thZhuyj2sbOyaAoobyz9ciSVcPsv3P7n5B9vFauWMBKFvNsrv7Gkn7mjALgAYq8sTkPjN7P/s1f2zeN5lZj5lVzaxa6/kdgMapt+xPS/qFpAsk7ZL0x7xvdPcF7l5x90pnZ2eddwegqLrK7u6fufshd/9O0jOSLix3LABlq6vsZjZhwJe/kbQx73sBtIea59nN7HlJ3ZLGmdl2SX+Q1G1mF0hySdsk3d3AGcNbuHBh3fvedtttybzWefRaaj01mz17dl2ZJK1duzaZP/TQQ8n8yiuvzM3mz5+f3Le3tzeZD0c1y+7utw6y+dkGzAKggY6+twkBGBRlB4Kg7EAQlB0IgrIDQXCJaxtYs2ZNMt+6dWsyP+GEE3KzefPm1TVTO5g8eXIyX758eTKfM2dObjZ37tzkvmPGjEnmPT09ybwdcWQHgqDsQBCUHQiCsgNBUHYgCMoOBEHZgSA4z94GqtVqof0vvfTS3OzUU08t9LPb2YQJE5J5aknnffvSf1bxkUceSeZXXXVVMp80aVIybwWO7EAQlB0IgrIDQVB2IAjKDgRB2YEgKDsQhLl70+6sUql40XPKEZlZMk+dS9+1a1fZ4xwVlixZkszvvPPOZL548eJkPnPmzCMdqRSVSkXVanXQ/2E4sgNBUHYgCMoOBEHZgSAoOxAEZQeCoOxAEFzPPgwcd9xxyfzAgQO52e7du5P7Hs3Xux86dCg3W7RoUXLfWu9tGI5qHtnNbKKZ/c3MPjKzD83st9n2DjN7w8w2Z5/HNn5cAPUayq/x30rqdfdzJV0k6V4zO1fSXEmr3P1sSauyrwG0qZpld/dd7v5udvtLSZsknS5puqTD7xlcLOmGRg0JoLgjeoHOzLok/VLSPySNd/fDb7zeLWl8zj49ZlY1s2pfX1+BUQEUMeSym9nxkl6S9Dt3/2Jg5v1X0wx6RY27L3D3irtXOjs7Cw0LoH5DKruZHav+oi91979kmz8zswlZPkHSnsaMCKAMNU+9Wf85iGclbXL3Pw2IVki6Q9Lj2edXGjIh9Prrryfz7u7u3KzWpZrLli1L5h0dHcm8lTZv3pzMH3jggdxs9erVyX0nTpyYzM8555xk3o6Gcp59sqSZkj4wsw3ZtofUX/IXzWy2pE8lzWjMiADKULPs7v53SXnvMPh1ueMAaBTeLgsEQdmBICg7EARlB4Kg7EAQXOI6DFxyySXJfP369bnZ1KlTk/t2dXUl856enmRe6xLZr7/+Ojd78sknk/vWsn///mR+8ODB3GzWrFnJfefNm5fMh+OlwRzZgSAoOxAEZQeCoOxAEJQdCIKyA0FQdiAIzrMPAyNGjEjm559/fm72ySefJPetdV13b29vMt++fXsyL/Inme+///5kPnLkyGSeeo9ArevVjz322GQ+HHFkB4Kg7EAQlB0IgrIDQVB2IAjKDgRB2YEgOM9+lDvllFOS+U033VQox/DBkR0IgrIDQVB2IAjKDgRB2YEgKDsQBGUHgqhZdjObaGZ/M7OPzOxDM/tttv1RM9thZhuyj2sbPy6Aeg3lTTXfSup193fNbIykdWb2Rpb92d3/s3HjASjLUNZn3yVpV3b7SzPbJOn0Rg8GoFxH9JzdzLok/VLSP7JN95nZ+2b2nJmNzdmnx8yqZlbt6+srNCyA+g257GZ2vKSXJP3O3b+Q9LSkX0i6QP1H/j8Otp+7L3D3irtXOjs7SxgZQD2GVHYzO1b9RV/q7n+RJHf/zN0Puft3kp6RdGHjxgRQ1FBejTdJz0ra5O5/GrB9woBv+42kjeWPB6AsQ3k1frKkmZI+MLMN2baHJN1qZhdIcknbJN3dkAkBlGIor8b/XdJgf/z7tfLHAdAovIMOCIKyA0FQdiAIyg4EQdmBICg7EARlB4Kg7EAQlB0IgrIDQVB2IAjKDgRB2YEgKDsQhLl78+7MrE/SpwM2jZO0t2kDHJl2na1d55KYrV5lzjbJ3Qf9+29NLfuP7tys6u6Vlg2Q0K6ztetcErPVq1mz8Ws8EARlB4JoddkXtPj+U9p1tnadS2K2ejVltpY+ZwfQPK0+sgNoEsoOBNGSspvZ1Wb2iZltMbO5rZghj5ltM7MPsmWoqy2e5Tkz22NmGwds6zCzN8xsc/Z50DX2WjRbWyzjnVhmvKWPXauXP2/6c3YzGyHpfyRdKWm7pHck3eruHzV1kBxmtk1Sxd1b/gYMM7tM0leSlrj7v2Xb/kPSPnd/PPuHcqy7/75NZntU0letXsY7W61owsBlxiXdIOlOtfCxS8w1Q0143FpxZL9Q0hZ33+ru30haLml6C+Zoe+6+RtK+H2yeLmlxdnux+v9nabqc2dqCu+9y93ez219KOrzMeEsfu8RcTdGKsp8u6Z8Dvt6u9lrv3SWtNLN1ZtbT6mEGMd7dd2W3d0sa38phBlFzGe9m+sEy423z2NWz/HlRvED3Y1Pc/VeSrpF0b/bralvy/udg7XTudEjLeDfLIMuM/0srH7t6lz8vqhVl3yFp4oCvf5ZtawvuviP7vEfSy2q/pag/O7yCbvZ5T4vn+Zd2WsZ7sGXG1QaPXSuXP29F2d+RdLaZ/dzMfirpFkkrWjDHj5jZ6OyFE5nZaEnT1H5LUa+QdEd2+w5Jr7Rwlu9pl2W885YZV4sfu5Yvf+7uTf+QdK36X5H/X0kPt2KGnLnOlPRe9vFhq2eT9Lz6f637P/W/tjFb0smSVknaLOlNSR1tNNt/S/pA0vvqL9aEFs02Rf2/or8vaUP2cW2rH7vEXE153Hi7LBAEL9ABQVB2IAjKDgRB2YEgKDsQBGUHgqDsQBD/D2LOXKjitlyXAAAAAElFTkSuQmCC\n"
                },
                "metadata": {
                  "needs_background": "light"
                }
              }
            ]
          }
        },
        "8036091ed54742cfb0df2d755ff13e3d": {
          "model_module": "@jupyter-widgets/base",
          "model_name": "LayoutModel",
          "model_module_version": "1.2.0",
          "state": {
            "_model_module": "@jupyter-widgets/base",
            "_model_module_version": "1.2.0",
            "_model_name": "LayoutModel",
            "_view_count": null,
            "_view_module": "@jupyter-widgets/base",
            "_view_module_version": "1.2.0",
            "_view_name": "LayoutView",
            "align_content": null,
            "align_items": null,
            "align_self": null,
            "border": null,
            "bottom": null,
            "display": null,
            "flex": null,
            "flex_flow": null,
            "grid_area": null,
            "grid_auto_columns": null,
            "grid_auto_flow": null,
            "grid_auto_rows": null,
            "grid_column": null,
            "grid_gap": null,
            "grid_row": null,
            "grid_template_areas": null,
            "grid_template_columns": null,
            "grid_template_rows": null,
            "height": null,
            "justify_content": null,
            "justify_items": null,
            "left": null,
            "margin": null,
            "max_height": null,
            "max_width": null,
            "min_height": null,
            "min_width": null,
            "object_fit": null,
            "object_position": null,
            "order": null,
            "overflow": null,
            "overflow_x": null,
            "overflow_y": null,
            "padding": null,
            "right": null,
            "top": null,
            "visibility": null,
            "width": null
          }
        },
        "8d19abd49ceb42c7b4924d7558d1047d": {
          "model_module": "@jupyter-widgets/base",
          "model_name": "LayoutModel",
          "model_module_version": "1.2.0",
          "state": {
            "_model_module": "@jupyter-widgets/base",
            "_model_module_version": "1.2.0",
            "_model_name": "LayoutModel",
            "_view_count": null,
            "_view_module": "@jupyter-widgets/base",
            "_view_module_version": "1.2.0",
            "_view_name": "LayoutView",
            "align_content": null,
            "align_items": null,
            "align_self": null,
            "border": null,
            "bottom": null,
            "display": null,
            "flex": null,
            "flex_flow": null,
            "grid_area": null,
            "grid_auto_columns": null,
            "grid_auto_flow": null,
            "grid_auto_rows": null,
            "grid_column": null,
            "grid_gap": null,
            "grid_row": null,
            "grid_template_areas": null,
            "grid_template_columns": null,
            "grid_template_rows": null,
            "height": null,
            "justify_content": null,
            "justify_items": null,
            "left": null,
            "margin": null,
            "max_height": null,
            "max_width": null,
            "min_height": null,
            "min_width": null,
            "object_fit": null,
            "object_position": null,
            "order": null,
            "overflow": null,
            "overflow_x": null,
            "overflow_y": null,
            "padding": null,
            "right": null,
            "top": null,
            "visibility": null,
            "width": null
          }
        },
        "83f649c2f1ae4feca59bdeb3c3bda4e3": {
          "model_module": "@jupyter-widgets/controls",
          "model_name": "SliderStyleModel",
          "model_module_version": "1.5.0",
          "state": {
            "_model_module": "@jupyter-widgets/controls",
            "_model_module_version": "1.5.0",
            "_model_name": "SliderStyleModel",
            "_view_count": null,
            "_view_module": "@jupyter-widgets/base",
            "_view_module_version": "1.2.0",
            "_view_name": "StyleView",
            "description_width": "",
            "handle_color": null
          }
        },
        "5bbc6bbbeb2444ef9e58354c03abc626": {
          "model_module": "@jupyter-widgets/base",
          "model_name": "LayoutModel",
          "model_module_version": "1.2.0",
          "state": {
            "_model_module": "@jupyter-widgets/base",
            "_model_module_version": "1.2.0",
            "_model_name": "LayoutModel",
            "_view_count": null,
            "_view_module": "@jupyter-widgets/base",
            "_view_module_version": "1.2.0",
            "_view_name": "LayoutView",
            "align_content": null,
            "align_items": null,
            "align_self": null,
            "border": null,
            "bottom": null,
            "display": null,
            "flex": null,
            "flex_flow": null,
            "grid_area": null,
            "grid_auto_columns": null,
            "grid_auto_flow": null,
            "grid_auto_rows": null,
            "grid_column": null,
            "grid_gap": null,
            "grid_row": null,
            "grid_template_areas": null,
            "grid_template_columns": null,
            "grid_template_rows": null,
            "height": null,
            "justify_content": null,
            "justify_items": null,
            "left": null,
            "margin": null,
            "max_height": null,
            "max_width": null,
            "min_height": null,
            "min_width": null,
            "object_fit": null,
            "object_position": null,
            "order": null,
            "overflow": null,
            "overflow_x": null,
            "overflow_y": null,
            "padding": null,
            "right": null,
            "top": null,
            "visibility": null,
            "width": null
          }
        },
        "3aeb6f4012a640c69b744cd7691f92e4": {
          "model_module": "@jupyter-widgets/controls",
          "model_name": "ButtonStyleModel",
          "model_module_version": "1.5.0",
          "state": {
            "_model_module": "@jupyter-widgets/controls",
            "_model_module_version": "1.5.0",
            "_model_name": "ButtonStyleModel",
            "_view_count": null,
            "_view_module": "@jupyter-widgets/base",
            "_view_module_version": "1.2.0",
            "_view_name": "StyleView",
            "button_color": null,
            "font_weight": ""
          }
        },
        "eeeb2c651c5348e69a47838d0e1f6da4": {
          "model_module": "@jupyter-widgets/base",
          "model_name": "LayoutModel",
          "model_module_version": "1.2.0",
          "state": {
            "_model_module": "@jupyter-widgets/base",
            "_model_module_version": "1.2.0",
            "_model_name": "LayoutModel",
            "_view_count": null,
            "_view_module": "@jupyter-widgets/base",
            "_view_module_version": "1.2.0",
            "_view_name": "LayoutView",
            "align_content": null,
            "align_items": null,
            "align_self": null,
            "border": null,
            "bottom": null,
            "display": null,
            "flex": null,
            "flex_flow": null,
            "grid_area": null,
            "grid_auto_columns": null,
            "grid_auto_flow": null,
            "grid_auto_rows": null,
            "grid_column": null,
            "grid_gap": null,
            "grid_row": null,
            "grid_template_areas": null,
            "grid_template_columns": null,
            "grid_template_rows": null,
            "height": null,
            "justify_content": null,
            "justify_items": null,
            "left": null,
            "margin": null,
            "max_height": null,
            "max_width": null,
            "min_height": null,
            "min_width": null,
            "object_fit": null,
            "object_position": null,
            "order": null,
            "overflow": null,
            "overflow_x": null,
            "overflow_y": null,
            "padding": null,
            "right": null,
            "top": null,
            "visibility": null,
            "width": null
          }
        }
      }
    }
  },
  "nbformat": 4,
  "nbformat_minor": 0
}